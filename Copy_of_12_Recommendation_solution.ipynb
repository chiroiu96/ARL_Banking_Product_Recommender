{
  "nbformat": 4,
  "nbformat_minor": 0,
  "metadata": {
    "colab": {
      "name": "Copy of 12-Recommendation-solution.ipynb",
      "provenance": [],
      "collapsed_sections": []
    },
    "kernelspec": {
      "name": "python3",
      "display_name": "Python 3"
    },
    "accelerator": "GPU"
  },
  "cells": [
    {
      "cell_type": "markdown",
      "metadata": {
        "id": "r5TmotH9eX_a"
      },
      "source": [
        "#Book Recommendation\n",
        "\n",
        "The goal of this task is to implement a simple book recommendation system using embeddings in neural networks. \n",
        "\n",
        "We use the [Kaggle Goodbooks](https://www.kaggle.com/zygmunt/goodbooks-10k) data set.\n"
      ]
    },
    {
      "cell_type": "markdown",
      "metadata": {
        "id": "mqMw-mykk6JE"
      },
      "source": [
        "## Read ratings"
      ]
    },
    {
      "cell_type": "code",
      "metadata": {
        "id": "KjyoylI1eZ3L",
        "colab": {
          "base_uri": "https://localhost:8080/",
          "height": 195
        },
        "outputId": "247fa579-9da3-4a92-ff52-565ab8a21ec8"
      },
      "source": [
        "import pandas as pd\n",
        "ratings = pd.read_csv('https://github.com/mlcollege/rbi/raw/master/specializations/Deep-Learning/data/ratings.csv', sep=',')\n",
        "ratings.head()"
      ],
      "execution_count": null,
      "outputs": [
        {
          "output_type": "execute_result",
          "data": {
            "text/html": [
              "<div>\n",
              "<style scoped>\n",
              "    .dataframe tbody tr th:only-of-type {\n",
              "        vertical-align: middle;\n",
              "    }\n",
              "\n",
              "    .dataframe tbody tr th {\n",
              "        vertical-align: top;\n",
              "    }\n",
              "\n",
              "    .dataframe thead th {\n",
              "        text-align: right;\n",
              "    }\n",
              "</style>\n",
              "<table border=\"1\" class=\"dataframe\">\n",
              "  <thead>\n",
              "    <tr style=\"text-align: right;\">\n",
              "      <th></th>\n",
              "      <th>book_id</th>\n",
              "      <th>user_id</th>\n",
              "      <th>rating</th>\n",
              "    </tr>\n",
              "  </thead>\n",
              "  <tbody>\n",
              "    <tr>\n",
              "      <th>0</th>\n",
              "      <td>1</td>\n",
              "      <td>314</td>\n",
              "      <td>5</td>\n",
              "    </tr>\n",
              "    <tr>\n",
              "      <th>1</th>\n",
              "      <td>1</td>\n",
              "      <td>439</td>\n",
              "      <td>3</td>\n",
              "    </tr>\n",
              "    <tr>\n",
              "      <th>2</th>\n",
              "      <td>1</td>\n",
              "      <td>588</td>\n",
              "      <td>5</td>\n",
              "    </tr>\n",
              "    <tr>\n",
              "      <th>3</th>\n",
              "      <td>1</td>\n",
              "      <td>1169</td>\n",
              "      <td>4</td>\n",
              "    </tr>\n",
              "    <tr>\n",
              "      <th>4</th>\n",
              "      <td>1</td>\n",
              "      <td>1185</td>\n",
              "      <td>4</td>\n",
              "    </tr>\n",
              "  </tbody>\n",
              "</table>\n",
              "</div>"
            ],
            "text/plain": [
              "   book_id  user_id  rating\n",
              "0        1      314       5\n",
              "1        1      439       3\n",
              "2        1      588       5\n",
              "3        1     1169       4\n",
              "4        1     1185       4"
            ]
          },
          "metadata": {
            "tags": []
          },
          "execution_count": 1
        }
      ]
    },
    {
      "cell_type": "markdown",
      "metadata": {
        "id": "Hy6wypqNlBA2"
      },
      "source": [
        "## Read books"
      ]
    },
    {
      "cell_type": "code",
      "metadata": {
        "id": "gCQDNZ4zlDlO",
        "colab": {
          "base_uri": "https://localhost:8080/",
          "height": 400
        },
        "outputId": "edd322be-ffb3-437b-fedd-dd786b8d160e"
      },
      "source": [
        "books = pd.read_csv('https://github.com/mlcollege/rbi/raw/master/specializations/Deep-Learning/data/books.csv', sep=',')\n",
        "books.head()"
      ],
      "execution_count": null,
      "outputs": [
        {
          "output_type": "execute_result",
          "data": {
            "text/html": [
              "<div>\n",
              "<style scoped>\n",
              "    .dataframe tbody tr th:only-of-type {\n",
              "        vertical-align: middle;\n",
              "    }\n",
              "\n",
              "    .dataframe tbody tr th {\n",
              "        vertical-align: top;\n",
              "    }\n",
              "\n",
              "    .dataframe thead th {\n",
              "        text-align: right;\n",
              "    }\n",
              "</style>\n",
              "<table border=\"1\" class=\"dataframe\">\n",
              "  <thead>\n",
              "    <tr style=\"text-align: right;\">\n",
              "      <th></th>\n",
              "      <th>id</th>\n",
              "      <th>book_id</th>\n",
              "      <th>best_book_id</th>\n",
              "      <th>work_id</th>\n",
              "      <th>books_count</th>\n",
              "      <th>isbn</th>\n",
              "      <th>isbn13</th>\n",
              "      <th>authors</th>\n",
              "      <th>original_publication_year</th>\n",
              "      <th>original_title</th>\n",
              "      <th>title</th>\n",
              "      <th>language_code</th>\n",
              "      <th>average_rating</th>\n",
              "      <th>ratings_count</th>\n",
              "      <th>work_ratings_count</th>\n",
              "      <th>work_text_reviews_count</th>\n",
              "      <th>ratings_1</th>\n",
              "      <th>ratings_2</th>\n",
              "      <th>ratings_3</th>\n",
              "      <th>ratings_4</th>\n",
              "      <th>ratings_5</th>\n",
              "      <th>image_url</th>\n",
              "      <th>small_image_url</th>\n",
              "    </tr>\n",
              "  </thead>\n",
              "  <tbody>\n",
              "    <tr>\n",
              "      <th>0</th>\n",
              "      <td>1</td>\n",
              "      <td>2767052</td>\n",
              "      <td>2767052</td>\n",
              "      <td>2792775</td>\n",
              "      <td>272</td>\n",
              "      <td>439023483</td>\n",
              "      <td>9.780439e+12</td>\n",
              "      <td>Suzanne Collins</td>\n",
              "      <td>2008.0</td>\n",
              "      <td>The Hunger Games</td>\n",
              "      <td>The Hunger Games (The Hunger Games, #1)</td>\n",
              "      <td>eng</td>\n",
              "      <td>4.34</td>\n",
              "      <td>4780653</td>\n",
              "      <td>4942365</td>\n",
              "      <td>155254</td>\n",
              "      <td>66715</td>\n",
              "      <td>127936</td>\n",
              "      <td>560092</td>\n",
              "      <td>1481305</td>\n",
              "      <td>2706317</td>\n",
              "      <td>https://images.gr-assets.com/books/1447303603m...</td>\n",
              "      <td>https://images.gr-assets.com/books/1447303603s...</td>\n",
              "    </tr>\n",
              "    <tr>\n",
              "      <th>1</th>\n",
              "      <td>2</td>\n",
              "      <td>3</td>\n",
              "      <td>3</td>\n",
              "      <td>4640799</td>\n",
              "      <td>491</td>\n",
              "      <td>439554934</td>\n",
              "      <td>9.780440e+12</td>\n",
              "      <td>J.K. Rowling, Mary GrandPré</td>\n",
              "      <td>1997.0</td>\n",
              "      <td>Harry Potter and the Philosopher's Stone</td>\n",
              "      <td>Harry Potter and the Sorcerer's Stone (Harry P...</td>\n",
              "      <td>eng</td>\n",
              "      <td>4.44</td>\n",
              "      <td>4602479</td>\n",
              "      <td>4800065</td>\n",
              "      <td>75867</td>\n",
              "      <td>75504</td>\n",
              "      <td>101676</td>\n",
              "      <td>455024</td>\n",
              "      <td>1156318</td>\n",
              "      <td>3011543</td>\n",
              "      <td>https://images.gr-assets.com/books/1474154022m...</td>\n",
              "      <td>https://images.gr-assets.com/books/1474154022s...</td>\n",
              "    </tr>\n",
              "    <tr>\n",
              "      <th>2</th>\n",
              "      <td>3</td>\n",
              "      <td>41865</td>\n",
              "      <td>41865</td>\n",
              "      <td>3212258</td>\n",
              "      <td>226</td>\n",
              "      <td>316015849</td>\n",
              "      <td>9.780316e+12</td>\n",
              "      <td>Stephenie Meyer</td>\n",
              "      <td>2005.0</td>\n",
              "      <td>Twilight</td>\n",
              "      <td>Twilight (Twilight, #1)</td>\n",
              "      <td>en-US</td>\n",
              "      <td>3.57</td>\n",
              "      <td>3866839</td>\n",
              "      <td>3916824</td>\n",
              "      <td>95009</td>\n",
              "      <td>456191</td>\n",
              "      <td>436802</td>\n",
              "      <td>793319</td>\n",
              "      <td>875073</td>\n",
              "      <td>1355439</td>\n",
              "      <td>https://images.gr-assets.com/books/1361039443m...</td>\n",
              "      <td>https://images.gr-assets.com/books/1361039443s...</td>\n",
              "    </tr>\n",
              "    <tr>\n",
              "      <th>3</th>\n",
              "      <td>4</td>\n",
              "      <td>2657</td>\n",
              "      <td>2657</td>\n",
              "      <td>3275794</td>\n",
              "      <td>487</td>\n",
              "      <td>61120081</td>\n",
              "      <td>9.780061e+12</td>\n",
              "      <td>Harper Lee</td>\n",
              "      <td>1960.0</td>\n",
              "      <td>To Kill a Mockingbird</td>\n",
              "      <td>To Kill a Mockingbird</td>\n",
              "      <td>eng</td>\n",
              "      <td>4.25</td>\n",
              "      <td>3198671</td>\n",
              "      <td>3340896</td>\n",
              "      <td>72586</td>\n",
              "      <td>60427</td>\n",
              "      <td>117415</td>\n",
              "      <td>446835</td>\n",
              "      <td>1001952</td>\n",
              "      <td>1714267</td>\n",
              "      <td>https://images.gr-assets.com/books/1361975680m...</td>\n",
              "      <td>https://images.gr-assets.com/books/1361975680s...</td>\n",
              "    </tr>\n",
              "    <tr>\n",
              "      <th>4</th>\n",
              "      <td>5</td>\n",
              "      <td>4671</td>\n",
              "      <td>4671</td>\n",
              "      <td>245494</td>\n",
              "      <td>1356</td>\n",
              "      <td>743273567</td>\n",
              "      <td>9.780743e+12</td>\n",
              "      <td>F. Scott Fitzgerald</td>\n",
              "      <td>1925.0</td>\n",
              "      <td>The Great Gatsby</td>\n",
              "      <td>The Great Gatsby</td>\n",
              "      <td>eng</td>\n",
              "      <td>3.89</td>\n",
              "      <td>2683664</td>\n",
              "      <td>2773745</td>\n",
              "      <td>51992</td>\n",
              "      <td>86236</td>\n",
              "      <td>197621</td>\n",
              "      <td>606158</td>\n",
              "      <td>936012</td>\n",
              "      <td>947718</td>\n",
              "      <td>https://images.gr-assets.com/books/1490528560m...</td>\n",
              "      <td>https://images.gr-assets.com/books/1490528560s...</td>\n",
              "    </tr>\n",
              "  </tbody>\n",
              "</table>\n",
              "</div>"
            ],
            "text/plain": [
              "   id  ...                                    small_image_url\n",
              "0   1  ...  https://images.gr-assets.com/books/1447303603s...\n",
              "1   2  ...  https://images.gr-assets.com/books/1474154022s...\n",
              "2   3  ...  https://images.gr-assets.com/books/1361039443s...\n",
              "3   4  ...  https://images.gr-assets.com/books/1361975680s...\n",
              "4   5  ...  https://images.gr-assets.com/books/1490528560s...\n",
              "\n",
              "[5 rows x 23 columns]"
            ]
          },
          "metadata": {
            "tags": []
          },
          "execution_count": 2
        }
      ]
    },
    {
      "cell_type": "markdown",
      "metadata": {
        "id": "qABRcJ3tlbPO"
      },
      "source": [
        "## Prepare input data"
      ]
    },
    {
      "cell_type": "code",
      "metadata": {
        "id": "kANceGwZleUW",
        "colab": {
          "base_uri": "https://localhost:8080/",
          "height": 230
        },
        "outputId": "b95bd107-58ab-410f-9bc0-c325eff12366"
      },
      "source": [
        "# merge ratings and book titles \n",
        "data = pd.merge(ratings, books[['id', 'title']], left_on='book_id', right_on='id')[['user_id', 'book_id', 'rating', 'title']]\n",
        "\n",
        "# create new book and user ids\n",
        "user_ids_map = dict([(old, new) for new, old in enumerate(data['user_id'].unique())])\n",
        "book_ids_map = dict([(old, new) for new, old in enumerate(data['book_id'].unique())])\n",
        "data['user_id'] = data['user_id'].map(lambda x: user_ids_map[x])\n",
        "data['book_id'] = data['book_id'].map(lambda x: book_ids_map[x])\n",
        "\n",
        "# count users and books\n",
        "user_count = len(data['user_id'].unique())\n",
        "book_count = len(data['book_id'].unique())\n",
        "print (\"Unique users: {}\".format(user_count))\n",
        "print (\"Unique books: {}\".format(book_count))\n",
        "\n",
        "# preview the data\n",
        "data.head()"
      ],
      "execution_count": null,
      "outputs": [
        {
          "output_type": "stream",
          "text": [
            "Unique users: 53424\n",
            "Unique books: 10000\n"
          ],
          "name": "stdout"
        },
        {
          "output_type": "execute_result",
          "data": {
            "text/html": [
              "<div>\n",
              "<style scoped>\n",
              "    .dataframe tbody tr th:only-of-type {\n",
              "        vertical-align: middle;\n",
              "    }\n",
              "\n",
              "    .dataframe tbody tr th {\n",
              "        vertical-align: top;\n",
              "    }\n",
              "\n",
              "    .dataframe thead th {\n",
              "        text-align: right;\n",
              "    }\n",
              "</style>\n",
              "<table border=\"1\" class=\"dataframe\">\n",
              "  <thead>\n",
              "    <tr style=\"text-align: right;\">\n",
              "      <th></th>\n",
              "      <th>user_id</th>\n",
              "      <th>book_id</th>\n",
              "      <th>rating</th>\n",
              "      <th>title</th>\n",
              "    </tr>\n",
              "  </thead>\n",
              "  <tbody>\n",
              "    <tr>\n",
              "      <th>0</th>\n",
              "      <td>0</td>\n",
              "      <td>0</td>\n",
              "      <td>5</td>\n",
              "      <td>The Hunger Games (The Hunger Games, #1)</td>\n",
              "    </tr>\n",
              "    <tr>\n",
              "      <th>1</th>\n",
              "      <td>1</td>\n",
              "      <td>0</td>\n",
              "      <td>3</td>\n",
              "      <td>The Hunger Games (The Hunger Games, #1)</td>\n",
              "    </tr>\n",
              "    <tr>\n",
              "      <th>2</th>\n",
              "      <td>2</td>\n",
              "      <td>0</td>\n",
              "      <td>5</td>\n",
              "      <td>The Hunger Games (The Hunger Games, #1)</td>\n",
              "    </tr>\n",
              "    <tr>\n",
              "      <th>3</th>\n",
              "      <td>3</td>\n",
              "      <td>0</td>\n",
              "      <td>4</td>\n",
              "      <td>The Hunger Games (The Hunger Games, #1)</td>\n",
              "    </tr>\n",
              "    <tr>\n",
              "      <th>4</th>\n",
              "      <td>4</td>\n",
              "      <td>0</td>\n",
              "      <td>4</td>\n",
              "      <td>The Hunger Games (The Hunger Games, #1)</td>\n",
              "    </tr>\n",
              "  </tbody>\n",
              "</table>\n",
              "</div>"
            ],
            "text/plain": [
              "   user_id  book_id  rating                                    title\n",
              "0        0        0       5  The Hunger Games (The Hunger Games, #1)\n",
              "1        1        0       3  The Hunger Games (The Hunger Games, #1)\n",
              "2        2        0       5  The Hunger Games (The Hunger Games, #1)\n",
              "3        3        0       4  The Hunger Games (The Hunger Games, #1)\n",
              "4        4        0       4  The Hunger Games (The Hunger Games, #1)"
            ]
          },
          "metadata": {
            "tags": []
          },
          "execution_count": 3
        }
      ]
    },
    {
      "cell_type": "code",
      "metadata": {
        "id": "3d81ddAHffEf"
      },
      "source": [
        "from sklearn.model_selection import train_test_split\n",
        "train, test = train_test_split(data, test_size=0.2)"
      ],
      "execution_count": null,
      "outputs": []
    },
    {
      "cell_type": "markdown",
      "metadata": {
        "id": "bhkoJ70Qf9R3"
      },
      "source": [
        "## Define the model\n",
        "\n",
        "This model simply computes dot product of a book dense vector with a user dense vector. Your task here is to replace this dot product with a sequence of Dense layers in order to add complexity to the model and get better results. Before adding Dense layers, you will need to concatenate both embeddings using the Concatenate layer."
      ]
    },
    {
      "cell_type": "code",
      "metadata": {
        "id": "WT1sO9-Tf0cI",
        "colab": {
          "base_uri": "https://localhost:8080/"
        },
        "outputId": "e542f131-3d03-4ad9-b63b-c81251935335"
      },
      "source": [
        "from keras.layers import Input, Embedding, Flatten, Dot, Concatenate, Dense, Dropout\n",
        "from keras.models import Model\n",
        "\n",
        "book_input = Input(shape=(1))\n",
        "book_embedding = Embedding(book_count, 6)(book_input)\n",
        "book_vec = Flatten()(book_embedding)\n",
        "\n",
        "user_input = Input(shape=(1))\n",
        "user_embedding = Embedding(user_count, 6)(user_input)\n",
        "user_vec = Flatten()(user_embedding)\n",
        "\n",
        "#TODO Replace Dot product with a sequence of Dense layers\n",
        "#prod = Dot(axes=1)([book_vec, user_vec])\n",
        "conc = Concatenate(axis=1)([book_vec, user_vec])\n",
        "drop1 = Dropout(rate=0.5)(conc)\n",
        "d1 = Dense(64, activation=\"tanh\")(drop1)\n",
        "output = Dense(1, activation=\"relu\")(d1)\n",
        "model = Model([user_input, book_input], output)\n",
        "model.compile('adam', 'mse')\n",
        "\n",
        "print (model.summary())"
      ],
      "execution_count": null,
      "outputs": [
        {
          "output_type": "stream",
          "text": [
            "Model: \"functional_7\"\n",
            "__________________________________________________________________________________________________\n",
            "Layer (type)                    Output Shape         Param #     Connected to                     \n",
            "==================================================================================================\n",
            "input_7 (InputLayer)            [(None, 1)]          0                                            \n",
            "__________________________________________________________________________________________________\n",
            "input_8 (InputLayer)            [(None, 1)]          0                                            \n",
            "__________________________________________________________________________________________________\n",
            "embedding_6 (Embedding)         (None, 1, 6)         60000       input_7[0][0]                    \n",
            "__________________________________________________________________________________________________\n",
            "embedding_7 (Embedding)         (None, 1, 6)         320544      input_8[0][0]                    \n",
            "__________________________________________________________________________________________________\n",
            "flatten_6 (Flatten)             (None, 6)            0           embedding_6[0][0]                \n",
            "__________________________________________________________________________________________________\n",
            "flatten_7 (Flatten)             (None, 6)            0           embedding_7[0][0]                \n",
            "__________________________________________________________________________________________________\n",
            "concatenate_3 (Concatenate)     (None, 12)           0           flatten_6[0][0]                  \n",
            "                                                                 flatten_7[0][0]                  \n",
            "__________________________________________________________________________________________________\n",
            "dropout_2 (Dropout)             (None, 12)           0           concatenate_3[0][0]              \n",
            "__________________________________________________________________________________________________\n",
            "dense_7 (Dense)                 (None, 64)           832         dropout_2[0][0]                  \n",
            "__________________________________________________________________________________________________\n",
            "dense_8 (Dense)                 (None, 1)            65          dense_7[0][0]                    \n",
            "==================================================================================================\n",
            "Total params: 381,441\n",
            "Trainable params: 381,441\n",
            "Non-trainable params: 0\n",
            "__________________________________________________________________________________________________\n",
            "None\n"
          ],
          "name": "stdout"
        }
      ]
    },
    {
      "cell_type": "markdown",
      "metadata": {
        "id": "HXbfuWTigdtM"
      },
      "source": [
        "## Train the model"
      ]
    },
    {
      "cell_type": "code",
      "metadata": {
        "id": "D-yFxFeugcwI",
        "colab": {
          "base_uri": "https://localhost:8080/"
        },
        "outputId": "644949fd-475b-4233-a22c-1a9b6548e882"
      },
      "source": [
        "history= model.fit([train['user_id'], train['book_id']], [train['rating']], \n",
        "          validation_data=([test['user_id'], test['book_id']], [test['rating']]),\n",
        "          batch_size=512, epochs=10, verbose=1)"
      ],
      "execution_count": null,
      "outputs": [
        {
          "output_type": "stream",
          "text": [
            "Epoch 1/10\n",
            "1534/1534 [==============================] - 10s 7ms/step - loss: 1.5396 - val_loss: 0.7426\n",
            "Epoch 2/10\n",
            "1534/1534 [==============================] - 10s 7ms/step - loss: 0.7461 - val_loss: 0.7180\n",
            "Epoch 3/10\n",
            "1534/1534 [==============================] - 10s 7ms/step - loss: 0.7206 - val_loss: 0.7083\n",
            "Epoch 4/10\n",
            "1534/1534 [==============================] - 11s 7ms/step - loss: 0.7095 - val_loss: 0.7072\n",
            "Epoch 5/10\n",
            "1534/1534 [==============================] - 10s 7ms/step - loss: 0.6983 - val_loss: 0.7058\n",
            "Epoch 6/10\n",
            "1534/1534 [==============================] - 10s 7ms/step - loss: 0.6903 - val_loss: 0.7029\n",
            "Epoch 7/10\n",
            "1534/1534 [==============================] - 10s 7ms/step - loss: 0.6838 - val_loss: 0.7039\n",
            "Epoch 8/10\n",
            "1534/1534 [==============================] - 10s 7ms/step - loss: 0.6800 - val_loss: 0.7014\n",
            "Epoch 9/10\n",
            "1534/1534 [==============================] - 10s 7ms/step - loss: 0.6762 - val_loss: 0.7017\n",
            "Epoch 10/10\n",
            "1534/1534 [==============================] - 10s 7ms/step - loss: 0.6731 - val_loss: 0.7043\n"
          ],
          "name": "stdout"
        }
      ]
    },
    {
      "cell_type": "code",
      "metadata": {
        "colab": {
          "base_uri": "https://localhost:8080/",
          "height": 279
        },
        "id": "g_v7D81kpgOX",
        "outputId": "96595849-222d-40b0-f6aa-4563efe7aec8"
      },
      "source": [
        "import matplotlib.pyplot as plt\n",
        "\n",
        "plt.plot(history.history['loss'])\n",
        "plt.xlabel(\"Epochs\")\n",
        "plt.ylabel(\"Training Error\")\n",
        "plt.show()"
      ],
      "execution_count": null,
      "outputs": [
        {
          "output_type": "display_data",
          "data": {
            "image/png": "[encoded data removed]",
            "text/plain": [
              "<Figure size 432x288 with 1 Axes>"
            ]
          },
          "metadata": {
            "tags": [],
            "needs_background": "light"
          }
        }
      ]
    },
    {
      "cell_type": "markdown",
      "metadata": {
        "id": "YnElE32Cepku"
      },
      "source": [
        "### Evaluate the model\n",
        "\n",
        "Measure mean squared error and mean absolute error evaluation metrics on both train and test data sets. Compute the mean and standard deviation of the target values."
      ]
    },
    {
      "cell_type": "code",
      "metadata": {
        "id": "IoE3nJX1TMS3",
        "colab": {
          "base_uri": "https://localhost:8080/"
        },
        "outputId": "fdcc5f77-3724-454f-aeb9-d5020ae3419d"
      },
      "source": [
        "from sklearn.metrics import mean_squared_error, mean_absolute_error\n",
        "import numpy as np\n",
        "\n",
        "y_pred = model.predict([test['user_id'], test['book_id']])\n",
        "print (\"Test mean: {}, std: {}\".format(np.mean([test['rating']]), np.std([test['rating']])))\n",
        "print(\"Test Root mean squared error: {:.2f}\".format(np.sqrt(mean_squared_error(test['rating'].tolist(), y_pred))))\n",
        "print(\"Test Mean absolute error: {:.2f}\".format(mean_absolute_error(test['rating'].tolist(), y_pred)))"
      ],
      "execution_count": null,
      "outputs": [
        {
          "output_type": "stream",
          "text": [
            "Test mean: 3.8553057773794004, std: 0.9832572396609629\n",
            "Test Root mean squared error: 0.84\n",
            "Test Mean absolute error: 0.66\n"
          ],
          "name": "stdout"
        }
      ]
    },
    {
      "cell_type": "code",
      "metadata": {
        "colab": {
          "base_uri": "https://localhost:8080/"
        },
        "id": "ofWcFpEXcsts",
        "outputId": "871cc1b9-bbfa-4727-dacb-85978a38758b"
      },
      "source": [
        "y_pred = model.predict([train['user_id'], train['book_id']])\n",
        "print(\"Train Root mean squared error: %.2f\"\n",
        "      % np.sqrt(mean_squared_error(train['rating'].tolist(), y_pred)))\n",
        "print(\"Train Mean absolute error: %.2f\"\n",
        "      % mean_absolute_error(train['rating'].tolist(), y_pred))"
      ],
      "execution_count": null,
      "outputs": [
        {
          "output_type": "stream",
          "text": [
            "Train Root mean squared error: 0.79\n",
            "Train Mean absolute error: 0.61\n"
          ],
          "name": "stdout"
        }
      ]
    }
  ]
}